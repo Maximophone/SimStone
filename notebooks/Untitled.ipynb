{
 "cells": [
  {
   "cell_type": "code",
   "execution_count": 28,
   "metadata": {
    "collapsed": true
   },
   "outputs": [],
   "source": [
    "import random\n",
    "from threading import Thread, Event"
   ]
  },
  {
   "cell_type": "code",
   "execution_count": 26,
   "metadata": {
    "collapsed": true
   },
   "outputs": [],
   "source": [
    "class Card(object):\n",
    "    def __init__(self):\n",
    "        self.text = \"\""
   ]
  },
  {
   "cell_type": "code",
   "execution_count": null,
   "metadata": {
    "collapsed": true
   },
   "outputs": [],
   "source": [
    "class Cards(object):\n",
    "    pass"
   ]
  },
  {
   "cell_type": "code",
   "execution_count": 14,
   "metadata": {
    "collapsed": true
   },
   "outputs": [],
   "source": [
    "class GameException(Exception):\n",
    "    pass\n",
    "\n",
    "class PlayerException(Exception):\n",
    "    pass"
   ]
  },
  {
   "cell_type": "code",
   "execution_count": 27,
   "metadata": {
    "collapsed": true
   },
   "outputs": [],
   "source": [
    "class Player(object):\n",
    "    \n",
    "    def __init__(self):\n",
    "        self.mana = 0\n",
    "        self.hero = None\n",
    "        self.hero_power = None\n",
    "        self.deck = []\n",
    "        self.hand = []\n",
    "        \n",
    "    def check_ready(self):\n",
    "        if len(self.deck)<30:\n",
    "            raise PlayerException(\"Player has less than 30 cards\")\n",
    "    \n",
    "    def increase_mana(self):\n",
    "        if self.mana == 10: return\n",
    "        self.mana += 1\n",
    "        \n",
    "    def draw_card(self):\n",
    "        new_card = self.deck.pop()\n",
    "        self.hand.append(new_card)\n",
    "        \n",
    "    def first_draw(self,n):\n",
    "        self.current_draw = [self.deck.pop() for _ in range(n)]\n",
    "        return self.current_draw()\n",
    "        "
   ]
  },
  {
   "cell_type": "code",
   "execution_count": 16,
   "metadata": {
    "collapsed": true
   },
   "outputs": [],
   "source": [
    "class Game(object):\n",
    "    def __init__(self):\n",
    "        self.p1 = None\n",
    "        self.p2 = None\n",
    "        self.turn = 0\n",
    "        self.current_player = p1\n",
    "        self.started = False\n",
    "        self.actions = []\n",
    "        self.execution_thread = Thread(target=self.run)\n",
    "        self.execution_thread.daemon = True\n",
    "        \n",
    "    def get_action(self,choices):\n",
    "        \n",
    "    def add_player(self,player):\n",
    "        player.check_ready()\n",
    "        if not self.p1:\n",
    "            self.p1 = player\n",
    "            return\n",
    "        if not self.p2:\n",
    "            self.p2 = player\n",
    "            return\n",
    "        raise GameException(\"There are already 2 players\")\n",
    "        \n",
    "    def start(self):\n",
    "        self.execution_thread.start()\n",
    "        \n",
    "    def wait_for_action(self):\n",
    "        self.pause_event = Event()\n",
    "        self.pause_event.wait()\n",
    "    \n",
    "    def resume(self):\n",
    "        self.pause_event.set()\n",
    "        \n",
    "    def run(self):\n",
    "        self.started = True\n",
    "        self.init_player()\n",
    "        self.init_next_turn()\n",
    "        \n",
    "    def init_player(self):\n",
    "        n_cards = 3 if self.current_player == self.p1 else 4\n",
    "        gets_coin = self.current_player == self.p2\n",
    "        draw = self.current_player.first_draw()\n",
    "        actions = self.get_actions()\n",
    "        \n",
    "        \n",
    "    def switch_player(self):\n",
    "        self.current_player = self.p1 if self.current_player == self.p2 else self.p2\n",
    "        \n",
    "        \n",
    "    def init_next_turn(self):\n",
    "        self.current_player.increase_mana()\n",
    "        self.current_player.draw_card()\n",
    "    \n",
    "    def send_action(self):\n",
    "        \n",
    "    def end_turn(self):\n",
    "        pass\n",
    "        \n",
    "    def get_actions(self):\n",
    "        "
   ]
  },
  {
   "cell_type": "code",
   "execution_count": 17,
   "metadata": {
    "collapsed": true
   },
   "outputs": [],
   "source": [
    "g = Game()"
   ]
  },
  {
   "cell_type": "code",
   "execution_count": 24,
   "metadata": {
    "collapsed": true
   },
   "outputs": [],
   "source": [
    "p1 = Player()\n",
    "p1.deck = [x for x in range(30)]"
   ]
  },
  {
   "cell_type": "code",
   "execution_count": 25,
   "metadata": {
    "collapsed": false
   },
   "outputs": [
    {
     "ename": "GameException",
     "evalue": "There are already 2 players",
     "output_type": "error",
     "traceback": [
      "\u001b[1;31m---------------------------------------------------------------------------\u001b[0m",
      "\u001b[1;31mGameException\u001b[0m                             Traceback (most recent call last)",
      "\u001b[1;32m<ipython-input-25-95bceaab4378>\u001b[0m in \u001b[0;36m<module>\u001b[1;34m()\u001b[0m\n\u001b[1;32m----> 1\u001b[1;33m \u001b[0mg\u001b[0m\u001b[1;33m.\u001b[0m\u001b[0madd_player\u001b[0m\u001b[1;33m(\u001b[0m\u001b[0mp1\u001b[0m\u001b[1;33m)\u001b[0m\u001b[1;33m\u001b[0m\u001b[0m\n\u001b[0m",
      "\u001b[1;32m<ipython-input-16-9ed2ac0ac037>\u001b[0m in \u001b[0;36madd_player\u001b[1;34m(self, player)\u001b[0m\n\u001b[0;32m     13\u001b[0m             \u001b[0mself\u001b[0m\u001b[1;33m.\u001b[0m\u001b[0mp2\u001b[0m \u001b[1;33m=\u001b[0m \u001b[0mplayer\u001b[0m\u001b[1;33m\u001b[0m\u001b[0m\n\u001b[0;32m     14\u001b[0m             \u001b[1;32mreturn\u001b[0m\u001b[1;33m\u001b[0m\u001b[0m\n\u001b[1;32m---> 15\u001b[1;33m         \u001b[1;32mraise\u001b[0m \u001b[0mGameException\u001b[0m\u001b[1;33m(\u001b[0m\u001b[1;34m\"There are already 2 players\"\u001b[0m\u001b[1;33m)\u001b[0m\u001b[1;33m\u001b[0m\u001b[0m\n\u001b[0m",
      "\u001b[1;31mGameException\u001b[0m: There are already 2 players"
     ]
    }
   ],
   "source": [
    "g.add_player(p1)"
   ]
  },
  {
   "cell_type": "code",
   "execution_count": 29,
   "metadata": {
    "collapsed": true
   },
   "outputs": [],
   "source": [
    "t = Thread()"
   ]
  },
  {
   "cell_type": "code",
   "execution_count": null,
   "metadata": {
    "collapsed": true
   },
   "outputs": [],
   "source": []
  },
  {
   "cell_type": "code",
   "execution_count": null,
   "metadata": {
    "collapsed": true
   },
   "outputs": [],
   "source": []
  }
 ],
 "metadata": {
  "kernelspec": {
   "display_name": "Python 2",
   "language": "python",
   "name": "python2"
  },
  "language_info": {
   "codemirror_mode": {
    "name": "ipython",
    "version": 2
   },
   "file_extension": ".py",
   "mimetype": "text/x-python",
   "name": "python",
   "nbconvert_exporter": "python",
   "pygments_lexer": "ipython2",
   "version": "2.7.11"
  }
 },
 "nbformat": 4,
 "nbformat_minor": 0
}
