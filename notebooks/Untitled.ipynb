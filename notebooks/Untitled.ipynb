{
 "cells": [
  {
   "cell_type": "code",
   "execution_count": 83,
   "metadata": {
    "collapsed": true
   },
   "outputs": [],
   "source": [
    "import random\n",
    "from threading import Thread, Event"
   ]
  },
  {
   "cell_type": "code",
   "execution_count": 84,
   "metadata": {
    "collapsed": true
   },
   "outputs": [],
   "source": [
    "class ActionsInterfaceList(list):\n",
    "    def __init__(self,actions):\n",
    "        super(ActionsInterfaceList,self).__init__()\n",
    "        for i,action in enumerate(actions):\n",
    "            self.append((i,action.public_interface))\n",
    "    \n",
    "class Action(object):\n",
    "    def __init__(self):\n",
    "        self.text = \"\"\n",
    "    \n",
    "    @property\n",
    "    def public_interface(self):\n",
    "        return [self.text,self.is_terminal]\n",
    "        \n",
    "    def _callback(self,*args,**kwargs):\n",
    "        pass\n",
    "        \n",
    "    def callback(self,*args,**kwargs):\n",
    "        return self._callback(*args,**kwargs)\n",
    "\n",
    "class SubAction(Action):\n",
    "    is_terminal = False\n",
    "    def __init__(self):\n",
    "        super(SubAction,self).__init__()\n",
    "        \n",
    "class TermAction(Action):\n",
    "    is_terminal = True\n",
    "    def __init__(self):\n",
    "        super(TermAction,self).__init__()\n",
    "        \n",
    "class CardSelectAction(SubAction):\n",
    "    def __init__(self, card, selected_container):\n",
    "        super(CardSelectAction, self).__init__()\n",
    "        self.text = card.text\n",
    "        self.card = card\n",
    "        self.selected_container = selected_container\n",
    "        \n",
    "    def _callback(self,*args, **kwargs):\n",
    "        self.selected_container.append(self.card)\n",
    "            \n",
    "        "
   ]
  },
  {
   "cell_type": "code",
   "execution_count": 85,
   "metadata": {
    "collapsed": true
   },
   "outputs": [],
   "source": [
    "class Card(object):\n",
    "    def __init__(self,text):\n",
    "        self.text = text"
   ]
  },
  {
   "cell_type": "code",
   "execution_count": 86,
   "metadata": {
    "collapsed": true
   },
   "outputs": [],
   "source": [
    "class Cards(object):\n",
    "    pass"
   ]
  },
  {
   "cell_type": "code",
   "execution_count": 87,
   "metadata": {
    "collapsed": true
   },
   "outputs": [],
   "source": [
    "class GameException(Exception):\n",
    "    pass\n",
    "\n",
    "class PlayerException(Exception):\n",
    "    pass"
   ]
  },
  {
   "cell_type": "code",
   "execution_count": 88,
   "metadata": {
    "collapsed": true
   },
   "outputs": [],
   "source": [
    "class Player(object):\n",
    "    \n",
    "    def __init__(self):\n",
    "        self.mana = 0\n",
    "        self.hero = None\n",
    "        self.hero_power = None\n",
    "        self.deck = []\n",
    "        self.hand = []\n",
    "        \n",
    "    def set_deck(self,cards):\n",
    "        self.deck = cards\n",
    "        \n",
    "    def check_ready(self):\n",
    "        if len(self.deck)<30:\n",
    "            raise PlayerException(\"Player has less than 30 cards\")\n",
    "    \n",
    "    def increase_mana(self):\n",
    "        if self.mana == 10: return\n",
    "        self.mana += 1\n",
    "        \n",
    "    def draw_card(self):\n",
    "        new_card = self.deck.pop()\n",
    "        self.hand.append(new_card)\n",
    "        \n",
    "    def first_draw(self,n):\n",
    "        self.current_draw = [self.deck.pop() for _ in range(n)]\n",
    "        return self.current_draw\n",
    "        "
   ]
  },
  {
   "cell_type": "code",
   "execution_count": 89,
   "metadata": {
    "collapsed": true
   },
   "outputs": [],
   "source": [
    "class Game(object):\n",
    "    def __init__(self):\n",
    "        self.p1 = None\n",
    "        self.p2 = None\n",
    "        self.turn = 0\n",
    "        self._current_player = None\n",
    "        self.started = False\n",
    "        self.actions = []\n",
    "        self.execution_thread = Thread(target=self.run)\n",
    "        self.execution_thread.daemon = True\n",
    "        \n",
    "        self.public_actions_buffer = []\n",
    "        self.is_waiting_for_action = False\n",
    "        self.selected_action = None\n",
    "    \n",
    "    @property\n",
    "    def current_player(self):\n",
    "        if not self._current_player:\n",
    "            self._current_player = self.p1\n",
    "        return self._current_player\n",
    "        \n",
    "    def add_player(self,player):\n",
    "        player.check_ready()\n",
    "        if not self.p1:\n",
    "            self.p1 = player\n",
    "            return\n",
    "        if not self.p2:\n",
    "            self.p2 = player\n",
    "            return\n",
    "        raise GameException(\"There are already 2 players\")\n",
    "        \n",
    "    def start(self):\n",
    "        self.execution_thread.start()\n",
    "        \n",
    "    def wait_for_action(self):\n",
    "        self.is_waiting_for_action = True\n",
    "        self.pause_event = Event()\n",
    "        self.pause_event.wait()\n",
    "        self.is_waiting_for_action = False\n",
    "        return self.selected_action\n",
    "    \n",
    "    def resume(self):\n",
    "        self.pause_event.set()\n",
    "        \n",
    "    def _retrieve_actions(self, actions):\n",
    "        self.public_actions_buffer = ActionsInterfaceList(actions)\n",
    "        while True:\n",
    "            action_id = self.wait_for_action()\n",
    "            action = actions.pop(action_id)\n",
    "            self.public_actions_buffer = ActionsInterfaceList(actions)\n",
    "            action.callback()\n",
    "            if action.is_terminal:\n",
    "                break\n",
    "        \n",
    "    def run(self):\n",
    "        self.started = True\n",
    "        self.init_player()\n",
    "        self.init_next_turn()\n",
    "        \n",
    "    def init_player(self):\n",
    "        n_cards = 3 if self.current_player == self.p1 else 4\n",
    "        gets_coin = self.current_player == self.p2\n",
    "        draw = self.current_player.first_draw(3)\n",
    "        selected = []\n",
    "        actions = [CardSelectAction(card,selected) for card in draw] + [TermAction()]\n",
    "        self._retrieve_actions(actions)\n",
    "        print selected\n",
    "        \n",
    "        \n",
    "    def switch_player(self):\n",
    "        self.current_player = self.p1 if self.current_player == self.p2 else self.p2\n",
    "        \n",
    "        \n",
    "    def init_next_turn(self):\n",
    "        self.current_player.increase_mana()\n",
    "        self.current_player.draw_card()\n",
    "        \n",
    "    def check_valid_action(self,action_id):\n",
    "        if action_id in [x[0] for x in self.public_actions_buffer]:\n",
    "            return True\n",
    "        raise GameException(\"Invalid action\")\n",
    "    \n",
    "    def send_action(self,action_id):\n",
    "        if not self.is_waiting_for_action:\n",
    "            raise GameException(\"No action needed\")\n",
    "        self.check_valid_action(action_id)\n",
    "        self.selected_action = action_id\n",
    "        self.resume()\n",
    "        \n",
    "    def end_turn(self):\n",
    "        pass\n",
    "        \n",
    "    def get_actions(self):\n",
    "        return self.public_actions_buffer\n",
    "        "
   ]
  },
  {
   "cell_type": "code",
   "execution_count": 90,
   "metadata": {
    "collapsed": false
   },
   "outputs": [],
   "source": [
    "g = Game()"
   ]
  },
  {
   "cell_type": "code",
   "execution_count": 91,
   "metadata": {
    "collapsed": true
   },
   "outputs": [],
   "source": [
    "p1 = Player()\n",
    "p1.set_deck([Card(str(x)) for x in range(30)])"
   ]
  },
  {
   "cell_type": "code",
   "execution_count": 92,
   "metadata": {
    "collapsed": false
   },
   "outputs": [],
   "source": [
    "g.add_player(p1)"
   ]
  },
  {
   "cell_type": "code",
   "execution_count": 93,
   "metadata": {
    "collapsed": true
   },
   "outputs": [],
   "source": [
    "p2 = Player()\n",
    "p2.set_deck([Card(str(x+100)) for x in range(30)])"
   ]
  },
  {
   "cell_type": "code",
   "execution_count": 94,
   "metadata": {
    "collapsed": false
   },
   "outputs": [],
   "source": [
    "g.start()"
   ]
  },
  {
   "cell_type": "code",
   "execution_count": 95,
   "metadata": {
    "collapsed": false
   },
   "outputs": [
    {
     "data": {
      "text/plain": [
       "[(0, ['29', False]), (1, ['28', False]), (2, ['27', False]), (3, ['', True])]"
      ]
     },
     "execution_count": 95,
     "metadata": {},
     "output_type": "execute_result"
    }
   ],
   "source": [
    "g.get_actions()"
   ]
  },
  {
   "cell_type": "code",
   "execution_count": 96,
   "metadata": {
    "collapsed": false
   },
   "outputs": [],
   "source": [
    "g.send_action(1)"
   ]
  },
  {
   "cell_type": "code",
   "execution_count": 97,
   "metadata": {
    "collapsed": false
   },
   "outputs": [
    {
     "data": {
      "text/plain": [
       "[(0, ['29', False]), (1, ['27', False]), (2, ['', True])]"
      ]
     },
     "execution_count": 97,
     "metadata": {},
     "output_type": "execute_result"
    }
   ],
   "source": [
    "g.get_actions()"
   ]
  },
  {
   "cell_type": "code",
   "execution_count": 98,
   "metadata": {
    "collapsed": false
   },
   "outputs": [
    {
     "data": {
      "text/plain": [
       "True"
      ]
     },
     "execution_count": 98,
     "metadata": {},
     "output_type": "execute_result"
    }
   ],
   "source": [
    "g.is_waiting_for_action"
   ]
  },
  {
   "cell_type": "code",
   "execution_count": 99,
   "metadata": {
    "collapsed": false
   },
   "outputs": [
    {
     "name": "stdout",
     "output_type": "stream",
     "text": [
      "[<__main__.Card object at 0x103fcb790>]\n"
     ]
    }
   ],
   "source": [
    "result = g.send_action(2)"
   ]
  },
  {
   "cell_type": "code",
   "execution_count": 100,
   "metadata": {
    "collapsed": false
   },
   "outputs": [
    {
     "ename": "TypeError",
     "evalue": "'NoneType' object has no attribute '__getitem__'",
     "output_type": "error",
     "traceback": [
      "\u001b[0;31m---------------------------------------------------------------------------\u001b[0m",
      "\u001b[0;31mTypeError\u001b[0m                                 Traceback (most recent call last)",
      "\u001b[0;32m<ipython-input-100-0694a6c50535>\u001b[0m in \u001b[0;36m<module>\u001b[0;34m()\u001b[0m\n\u001b[0;32m----> 1\u001b[0;31m \u001b[0mresult\u001b[0m\u001b[0;34m[\u001b[0m\u001b[0;36m0\u001b[0m\u001b[0;34m]\u001b[0m\u001b[0;34m.\u001b[0m\u001b[0mtext\u001b[0m\u001b[0;34m\u001b[0m\u001b[0m\n\u001b[0m",
      "\u001b[0;31mTypeError\u001b[0m: 'NoneType' object has no attribute '__getitem__'"
     ]
    }
   ],
   "source": [
    "result[0].text"
   ]
  },
  {
   "cell_type": "code",
   "execution_count": null,
   "metadata": {
    "collapsed": true
   },
   "outputs": [],
   "source": []
  }
 ],
 "metadata": {
  "anaconda-cloud": {},
  "kernelspec": {
   "display_name": "Python [Root]",
   "language": "python",
   "name": "Python [Root]"
  },
  "language_info": {
   "codemirror_mode": {
    "name": "ipython",
    "version": 2
   },
   "file_extension": ".py",
   "mimetype": "text/x-python",
   "name": "python",
   "nbconvert_exporter": "python",
   "pygments_lexer": "ipython2",
   "version": "2.7.12"
  }
 },
 "nbformat": 4,
 "nbformat_minor": 0
}
