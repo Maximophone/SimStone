{
 "cells": [
  {
   "cell_type": "code",
   "execution_count": 4,
   "metadata": {
    "collapsed": true
   },
   "outputs": [],
   "source": [
    "import random\n",
    "from threading import Thread, Event"
   ]
  },
  {
   "cell_type": "markdown",
   "metadata": {},
   "source": [
    "TODO:\n",
    "\n",
    "Create class that keeps a reference to every card in the game in order to move them around more easily. This way you can only manipulate references to cards and query the class when you need more info, etc"
   ]
  },
  {
   "cell_type": "code",
   "execution_count": 88,
   "metadata": {
    "collapsed": true
   },
   "outputs": [],
   "source": [
    "class CardTypes:\n",
    "    SPELL_ATTACK = 0\n",
    "    SPELL_PASSIVE = 1\n",
    "    MINION = 2\n",
    "    WEAPON = 3"
   ]
  },
  {
   "cell_type": "code",
   "execution_count": 95,
   "metadata": {
    "collapsed": true
   },
   "outputs": [],
   "source": [
    "cards = {\n",
    "    'mage':{\n",
    "        'name':'Mage',\n",
    "        'text':'',\n",
    "        'mana':3,\n",
    "        'type':'MINION',\n",
    "        'attack':4,\n",
    "        'defense':3\n",
    "    },\n",
    "    'warrior':{\n",
    "        'name':'Warrior',\n",
    "        'text':'',\n",
    "        'mana':6,\n",
    "        'type':'MINION',\n",
    "        'attack':6,\n",
    "        'defense':7\n",
    "    },\n",
    "    'pawn':{\n",
    "        'name':'Pawn',\n",
    "        'text':'',\n",
    "        'mana':1,\n",
    "        'type':'MINION',\n",
    "        'attack':2,\n",
    "        'defense':1\n",
    "    },\n",
    "    'heal':{\n",
    "        'name':'Heal',\n",
    "        'text':'Restore 4 PV to your hero',\n",
    "        'mana':2,\n",
    "        'type':'SPELL_PASSIVE',\n",
    "        'attack':0,\n",
    "        'defense':0\n",
    "    }\n",
    "}"
   ]
  },
  {
   "cell_type": "code",
   "execution_count": 131,
   "metadata": {
    "collapsed": true
   },
   "outputs": [],
   "source": [
    "class ActionsInterfaceList(list):\n",
    "    def __init__(self,actions):\n",
    "        super(ActionsInterfaceList,self).__init__()\n",
    "        for i,action in enumerate(actions):\n",
    "            self.append((i,action.public_interface))\n",
    "    \n",
    "class Action(object):\n",
    "    def __init__(self):\n",
    "        self.text = \"\"\n",
    "    \n",
    "    @property\n",
    "    def public_interface(self):\n",
    "        return [self.text,self.is_terminal]\n",
    "        \n",
    "    def _callback(self,*args,**kwargs):\n",
    "        pass\n",
    "        \n",
    "    def callback(self,*args,**kwargs):\n",
    "        return self._callback(*args,**kwargs)\n",
    "\n",
    "class SubAction(Action):\n",
    "    is_terminal = False\n",
    "    def __init__(self):\n",
    "        super(SubAction,self).__init__()\n",
    "        \n",
    "class TermAction(Action):\n",
    "    is_terminal = True\n",
    "    def __init__(self):\n",
    "        super(TermAction,self).__init__()\n",
    "        \n",
    "class CardSelectAction(SubAction):\n",
    "    def __init__(self, card, selected_container):\n",
    "        super(CardSelectAction, self).__init__()\n",
    "        self.text = card.name\n",
    "        self.card = card\n",
    "        self.selected_container = selected_container\n",
    "        \n",
    "    def _callback(self,*args, **kwargs):\n",
    "        self.selected_container.append(self.card)\n",
    "            \n",
    "class PlayMinionAction(SubAction):\n",
    "    def __init__(self,card):\n",
    "        super(PlayMinionAction,self).__init__()\n",
    "        self.card = card\n",
    "        \n",
    "    def _callback(self,game):\n",
    "        game.current_player.minions.append()\n",
    "        # work in progress   \n",
    "        "
   ]
  },
  {
   "cell_type": "code",
   "execution_count": 132,
   "metadata": {
    "collapsed": true
   },
   "outputs": [],
   "source": [
    "class Card(object):\n",
    "    def __init__(self,name,text,mana_cost,card_type,attack,defense):\n",
    "        self.name = name\n",
    "        self.text = text\n",
    "        self.mana_cost = mana_cost\n",
    "        self.card_type = card_type\n",
    "        self.attack = attack\n",
    "        self.defense = defense\n",
    "        \n",
    "    @classmethod\n",
    "    def from_dict(cls,d):\n",
    "        return cls(d['name'],d['text'],d['mana'],getattr(CardTypes,d['type']),d['attack'],d['defense'])"
   ]
  },
  {
   "cell_type": "code",
   "execution_count": 133,
   "metadata": {
    "collapsed": true
   },
   "outputs": [],
   "source": [
    "class Cards(object):\n",
    "    pass"
   ]
  },
  {
   "cell_type": "code",
   "execution_count": 134,
   "metadata": {
    "collapsed": true
   },
   "outputs": [],
   "source": [
    "class GameException(Exception):\n",
    "    pass\n",
    "\n",
    "class GameOverException(Exception):\n",
    "    pass\n",
    "\n",
    "class PlayerException(Exception):\n",
    "    pass"
   ]
  },
  {
   "cell_type": "code",
   "execution_count": 135,
   "metadata": {
    "collapsed": true
   },
   "outputs": [],
   "source": [
    "class Player(object):\n",
    "    \n",
    "    def __init__(self):\n",
    "        self.mana = 0\n",
    "        self.hero = None\n",
    "        self.hero_power = None\n",
    "        self.deck = []\n",
    "        self.hand = []\n",
    "        self.minions = []\n",
    "        self.health = 30\n",
    "        self.armor = 0\n",
    "        \n",
    "    def set_deck(self,cards):\n",
    "        self.deck = cards\n",
    "        \n",
    "    def check_ready(self):\n",
    "        if len(self.deck)<30:\n",
    "            raise PlayerException(\"Player has less than 30 cards\")\n",
    "    \n",
    "    def increase_mana(self):\n",
    "        if self.mana == 10: return\n",
    "        self.mana += 1\n",
    "        \n",
    "    def draw_card(self):\n",
    "        new_card = self.deck.pop()\n",
    "        self.hand.append(new_card)\n",
    "        \n",
    "    def first_draw(self,n):\n",
    "        self.current_draw = [self.deck.pop() for _ in range(n)]\n",
    "        return self.current_draw\n",
    "    \n",
    "    def put_in_hand(self,cards):\n",
    "        self.hand += cards\n",
    "        \n",
    "    def put_in_deck(self,cards):\n",
    "        self.deck = cards + self.deck\n",
    "        \n",
    "    def shuffle_deck(self):\n",
    "        random.shuffle(self.deck)\n",
    "        "
   ]
  },
  {
   "cell_type": "code",
   "execution_count": 175,
   "metadata": {
    "collapsed": false
   },
   "outputs": [],
   "source": [
    "def _get_spells_passive(player1,player2):\n",
    "    spells_passive = [card for card in player1.hand if card.card_type==CardTypes.SPELL_PASSIVE and player1.mana>=card.mana_cost]\n",
    "    return [CardSelectAction(card,_) for card in spells_passive]\n",
    "\n",
    "def _get_spells_attack(player1,player2):\n",
    "    return []\n",
    "\n",
    "def _get_minions_summon(player1,player2):\n",
    "    minions = [card for card in player1.hand if card.card_type==CardTypes.MINION and player1.mana>=card.mana_cost]\n",
    "    return [CardSelectAction(card,_) for card in minions]\n",
    "\n",
    "def _get_minions_attacks(player1,player2):\n",
    "    return []\n",
    "\n",
    "def _get_hero_specials(player1,player2):\n",
    "    return []"
   ]
  },
  {
   "cell_type": "code",
   "execution_count": 176,
   "metadata": {
    "collapsed": true
   },
   "outputs": [],
   "source": [
    "class Game(object):\n",
    "    def __init__(self):\n",
    "        self.p1 = None\n",
    "        self.p2 = None\n",
    "        self.turn = 0\n",
    "        self._current_player = None\n",
    "        self._other_player = None\n",
    "        self.started = False\n",
    "        self.actions = []\n",
    "        self.execution_thread = Thread(target=self.run)\n",
    "        self.execution_thread.daemon = True\n",
    "        \n",
    "        self.public_actions_buffer = []\n",
    "        self.is_waiting_for_action = False\n",
    "        self.selected_action = None\n",
    "    \n",
    "    @property\n",
    "    def current_player(self):\n",
    "        if not self._current_player:\n",
    "            self._current_player = self.p1\n",
    "        return self._current_player\n",
    "\n",
    "    def other_player(self):\n",
    "        if not self._other_player:\n",
    "            self._other_player = self.p2\n",
    "        return self._other_player\n",
    "        \n",
    "    def add_player(self,player):\n",
    "        player.check_ready()\n",
    "        if not self.p1:\n",
    "            self.p1 = player\n",
    "            return\n",
    "        if not self.p2:\n",
    "            self.p2 = player\n",
    "            return\n",
    "        raise GameException(\"There are already 2 players\")\n",
    "        \n",
    "    def start(self):\n",
    "        self.execution_thread.start()\n",
    "        \n",
    "    def wait_for_action(self):\n",
    "        self.is_waiting_for_action = True\n",
    "        self.pause_event = Event()\n",
    "        self.pause_event.wait()\n",
    "        self.is_waiting_for_action = False\n",
    "        return self.selected_action\n",
    "    \n",
    "    def resume(self):\n",
    "        self.pause_event.set()\n",
    "        \n",
    "    def _retrieve_actions(self, actions_getter):\n",
    "        while True:\n",
    "            actions = actions_getter()\n",
    "            self.public_actions_buffer = ActionsInterfaceList(actions)\n",
    "            action_id = self.wait_for_action()\n",
    "            action = actions.pop(action_id)\n",
    "            self.public_actions_buffer = ActionsInterfaceList(actions)\n",
    "            action.callback()\n",
    "            if action.is_terminal:\n",
    "                break\n",
    "        \n",
    "    def run(self):\n",
    "        self.started = True\n",
    "        self.init_player()\n",
    "        self.switch_player()\n",
    "        self.init_player()\n",
    "        while True:\n",
    "            self.switch_player()\n",
    "            self.init_next_turn()\n",
    "            end = self.play_turn()\n",
    "            if end:\n",
    "                break\n",
    "        \n",
    "    def init_player(self):\n",
    "        n_cards = 3 if self.current_player == self.p1 else 4\n",
    "        gets_coin = self.current_player == self.p2\n",
    "        draw = self.current_player.first_draw(n_cards)\n",
    "        selected = []\n",
    "        actions = [CardSelectAction(card,selected) for card in draw] + [TermAction()]\n",
    "        actions_getter = lambda: actions\n",
    "        self._retrieve_actions(actions_getter)\n",
    "        print 'remaining actions:'\n",
    "        print [action.card.name for action in actions]\n",
    "        print 'selected:'\n",
    "        print [card.text for card in selected]\n",
    "        self.current_player.put_in_hand([action.card for action in actions])\n",
    "        self.current_player.put_in_deck([card for card in selected])\n",
    "        # self.current_player.shuffle_deck()\n",
    "        self.current_player.put_in_hand(self.current_player.first_draw(len(selected)))\n",
    "        \n",
    "        \n",
    "    def switch_player(self):\n",
    "        self._current_player = self.p1 if self.current_player == self.p2 else self.p2\n",
    "        self._other_player = self.p2 if self.other_player == self.p1 else self.p1\n",
    "        \n",
    "        \n",
    "    def init_next_turn(self):\n",
    "        self.current_player.increase_mana()\n",
    "        self.current_player.draw_card()\n",
    "        \n",
    "    def play_turn(self):\n",
    "        player_hand = self.current_player.hand\n",
    "        player_minions = self.current_player.minions\n",
    "        def actions_getter():\n",
    "            actions = []\n",
    "            spells_passive = _get_spells_passive(self.current_player,self.other_player)\n",
    "            spells_attack = _get_spells_attack(self.current_player,self.other_player)\n",
    "            minions_summon = _get_minions_summon(self.current_player,self.other_player)\n",
    "            minions_attacks = _get_minions_attacks(self.current_player,self.other_player)\n",
    "            hero_specials = _get_hero_specials(self.current_player,self.other_player)\n",
    "            actions = spells_passive + spells_attack + minions_summon + minions_attacks + hero_specials + [TermAction()]\n",
    "            return actions\n",
    "        try:\n",
    "            self._retrieve_actions(actions_getter)\n",
    "        except GameOverException:\n",
    "            return True\n",
    "        return False\n",
    "        \n",
    "    def check_valid_action(self,action_id):\n",
    "        if action_id in [x[0] for x in self.public_actions_buffer]:\n",
    "            return True\n",
    "        raise GameException(\"Invalid action\")\n",
    "    \n",
    "    def send_action(self,action_id):\n",
    "        if not self.is_waiting_for_action:\n",
    "            raise GameException(\"No action needed\")\n",
    "        self.check_valid_action(action_id)\n",
    "        self.selected_action = action_id\n",
    "        self.resume()\n",
    "        \n",
    "    def end_turn(self):\n",
    "        pass\n",
    "        \n",
    "    def get_actions(self):\n",
    "        if not self.is_waiting_for_action:\n",
    "            return False\n",
    "        return self.public_actions_buffer\n",
    "        "
   ]
  },
  {
   "cell_type": "code",
   "execution_count": 177,
   "metadata": {
    "collapsed": false
   },
   "outputs": [],
   "source": [
    "g = Game()"
   ]
  },
  {
   "cell_type": "code",
   "execution_count": 178,
   "metadata": {
    "collapsed": false
   },
   "outputs": [],
   "source": [
    "deck1 = [cards[random.choice(cards.keys())] for _ in range(30)]\n",
    "deck2 = [cards[random.choice(cards.keys())] for _ in range(30)]"
   ]
  },
  {
   "cell_type": "code",
   "execution_count": 179,
   "metadata": {
    "collapsed": false
   },
   "outputs": [],
   "source": [
    "p1 = Player()\n",
    "p1.set_deck([Card.from_dict(card) for card in deck1])"
   ]
  },
  {
   "cell_type": "code",
   "execution_count": 180,
   "metadata": {
    "collapsed": false
   },
   "outputs": [],
   "source": [
    "g.add_player(p1)"
   ]
  },
  {
   "cell_type": "code",
   "execution_count": 181,
   "metadata": {
    "collapsed": true
   },
   "outputs": [],
   "source": [
    "p2 = Player()\n",
    "p2.set_deck([Card.from_dict(card) for card in deck2])"
   ]
  },
  {
   "cell_type": "code",
   "execution_count": 182,
   "metadata": {
    "collapsed": true
   },
   "outputs": [],
   "source": [
    "g.add_player(p2)"
   ]
  },
  {
   "cell_type": "code",
   "execution_count": 183,
   "metadata": {
    "collapsed": false
   },
   "outputs": [],
   "source": [
    "g.start()"
   ]
  },
  {
   "cell_type": "code",
   "execution_count": 184,
   "metadata": {
    "collapsed": false
   },
   "outputs": [
    {
     "data": {
      "text/plain": [
       "[(0, ['Mage', False]),\n",
       " (1, ['Warrior', False]),\n",
       " (2, ['Heal', False]),\n",
       " (3, ['', True])]"
      ]
     },
     "execution_count": 184,
     "metadata": {},
     "output_type": "execute_result"
    }
   ],
   "source": [
    "g.get_actions()"
   ]
  },
  {
   "cell_type": "code",
   "execution_count": 185,
   "metadata": {
    "collapsed": false
   },
   "outputs": [],
   "source": [
    "g.send_action(1)"
   ]
  },
  {
   "cell_type": "code",
   "execution_count": 186,
   "metadata": {
    "collapsed": false
   },
   "outputs": [
    {
     "data": {
      "text/plain": [
       "[(0, ['Mage', False]), (1, ['Heal', False]), (2, ['', True])]"
      ]
     },
     "execution_count": 186,
     "metadata": {},
     "output_type": "execute_result"
    }
   ],
   "source": [
    "g.get_actions()"
   ]
  },
  {
   "cell_type": "code",
   "execution_count": 187,
   "metadata": {
    "collapsed": false
   },
   "outputs": [
    {
     "name": "stdout",
     "output_type": "stream",
     "text": [
      "remaining actions:\n",
      "['Mage', 'Heal']\n",
      "selected:\n",
      "['']\n"
     ]
    }
   ],
   "source": [
    "g.send_action(2)"
   ]
  },
  {
   "cell_type": "code",
   "execution_count": 188,
   "metadata": {
    "collapsed": false
   },
   "outputs": [
    {
     "data": {
      "text/plain": [
       "[(0, ['Warrior', False]),\n",
       " (1, ['Heal', False]),\n",
       " (2, ['Pawn', False]),\n",
       " (3, ['Warrior', False]),\n",
       " (4, ['', True])]"
      ]
     },
     "execution_count": 188,
     "metadata": {},
     "output_type": "execute_result"
    }
   ],
   "source": [
    "g.get_actions()"
   ]
  },
  {
   "cell_type": "code",
   "execution_count": 189,
   "metadata": {
    "collapsed": true
   },
   "outputs": [],
   "source": [
    "g.send_action(0)"
   ]
  },
  {
   "cell_type": "code",
   "execution_count": 190,
   "metadata": {
    "collapsed": false
   },
   "outputs": [
    {
     "data": {
      "text/plain": [
       "[(0, ['Heal', False]),\n",
       " (1, ['Pawn', False]),\n",
       " (2, ['Warrior', False]),\n",
       " (3, ['', True])]"
      ]
     },
     "execution_count": 190,
     "metadata": {},
     "output_type": "execute_result"
    }
   ],
   "source": [
    "g.get_actions()"
   ]
  },
  {
   "cell_type": "code",
   "execution_count": 191,
   "metadata": {
    "collapsed": true
   },
   "outputs": [],
   "source": [
    "g.send_action(0)"
   ]
  },
  {
   "cell_type": "code",
   "execution_count": 192,
   "metadata": {
    "collapsed": false
   },
   "outputs": [
    {
     "data": {
      "text/plain": [
       "[(0, ['Pawn', False]), (1, ['Warrior', False]), (2, ['', True])]"
      ]
     },
     "execution_count": 192,
     "metadata": {},
     "output_type": "execute_result"
    }
   ],
   "source": [
    "g.get_actions()"
   ]
  },
  {
   "cell_type": "code",
   "execution_count": 193,
   "metadata": {
    "collapsed": false
   },
   "outputs": [
    {
     "name": "stdout",
     "output_type": "stream",
     "text": [
      "remaining actions:\n",
      "['Pawn', 'Warrior']\n",
      "selected:\n",
      "['', 'Restore 4 PV to your hero']\n"
     ]
    }
   ],
   "source": [
    "g.send_action(2)"
   ]
  },
  {
   "cell_type": "code",
   "execution_count": 194,
   "metadata": {
    "collapsed": false
   },
   "outputs": [
    {
     "data": {
      "text/plain": [
       "[(0, ['', True])]"
      ]
     },
     "execution_count": 194,
     "metadata": {},
     "output_type": "execute_result"
    }
   ],
   "source": [
    "g.get_actions()"
   ]
  },
  {
   "cell_type": "code",
   "execution_count": 195,
   "metadata": {
    "collapsed": false
   },
   "outputs": [
    {
     "data": {
      "text/plain": [
       "True"
      ]
     },
     "execution_count": 195,
     "metadata": {},
     "output_type": "execute_result"
    }
   ],
   "source": [
    "g.is_waiting_for_action"
   ]
  },
  {
   "cell_type": "code",
   "execution_count": 196,
   "metadata": {
    "collapsed": false
   },
   "outputs": [
    {
     "data": {
      "text/plain": [
       "<__main__.Player at 0x4352390>"
      ]
     },
     "execution_count": 196,
     "metadata": {},
     "output_type": "execute_result"
    }
   ],
   "source": [
    "p1"
   ]
  },
  {
   "cell_type": "code",
   "execution_count": 238,
   "metadata": {
    "collapsed": false
   },
   "outputs": [
    {
     "data": {
      "text/plain": [
       "<__main__.Player at 0x10401ced0>"
      ]
     },
     "execution_count": 238,
     "metadata": {},
     "output_type": "execute_result"
    }
   ],
   "source": [
    "p2"
   ]
  },
  {
   "cell_type": "code",
   "execution_count": 239,
   "metadata": {
    "collapsed": false
   },
   "outputs": [
    {
     "data": {
      "text/plain": [
       "['29', '27', '26']"
      ]
     },
     "execution_count": 239,
     "metadata": {},
     "output_type": "execute_result"
    }
   ],
   "source": [
    "[c.text for c in p1.hand]"
   ]
  },
  {
   "cell_type": "code",
   "execution_count": 240,
   "metadata": {
    "collapsed": false
   },
   "outputs": [
    {
     "data": {
      "text/plain": [
       "['127', '126', '125', '124', '123']"
      ]
     },
     "execution_count": 240,
     "metadata": {},
     "output_type": "execute_result"
    }
   ],
   "source": [
    "[c.text for c in p2.hand]"
   ]
  },
  {
   "cell_type": "code",
   "execution_count": null,
   "metadata": {
    "collapsed": true
   },
   "outputs": [],
   "source": []
  }
 ],
 "metadata": {
  "anaconda-cloud": {},
  "kernelspec": {
   "display_name": "Python 2",
   "language": "python",
   "name": "python2"
  },
  "language_info": {
   "codemirror_mode": {
    "name": "ipython",
    "version": 2
   },
   "file_extension": ".py",
   "mimetype": "text/x-python",
   "name": "python",
   "nbconvert_exporter": "python",
   "pygments_lexer": "ipython2",
   "version": "2.7.11"
  }
 },
 "nbformat": 4,
 "nbformat_minor": 0
}
